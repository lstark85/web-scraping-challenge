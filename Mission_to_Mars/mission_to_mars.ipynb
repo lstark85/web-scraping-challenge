{
 "cells": [
  {
   "cell_type": "markdown",
   "id": "04d6508f",
   "metadata": {},
   "source": [
    "# <font color='blue'> Step 1 - Scraping </font>"
   ]
  },
  {
   "cell_type": "code",
   "execution_count": null,
   "id": "407b477c",
   "metadata": {},
   "outputs": [],
   "source": [
    "from selenium import webdriver\n",
    "from webdriver_manager.chrome import ChromeDriverManager"
   ]
  },
  {
   "cell_type": "code",
   "execution_count": null,
   "id": "75012b00",
   "metadata": {},
   "outputs": [],
   "source": [
    "# import dependencies\n",
    "import pandas as pd\n",
    "from bs4 import BeautifulSoup as bs\n",
    "import requests\n",
    "import pymongo\n",
    "from splinter import Browser\n",
    "from flask import Flask, render_template, redirect\n",
    "from flask_pymongo import PyMongo"
   ]
  },
  {
   "cell_type": "code",
   "execution_count": null,
   "id": "2c648938",
   "metadata": {},
   "outputs": [],
   "source": [
    "executable_path = {'executable_path': 'chromedriver.exe'}\n",
    "browser = Browser('chrome', **executable_path, headless=False)"
   ]
  },
  {
   "cell_type": "markdown",
   "id": "deefcf81",
   "metadata": {},
   "source": [
    "## Nasa Mars News"
   ]
  },
  {
   "cell_type": "code",
   "execution_count": null,
   "id": "c62fc631",
   "metadata": {},
   "outputs": [],
   "source": [
    "#URL for NASA Mars News\n",
    "url = 'https://redplanetscience.com/'\n",
    "browser.visit(url)"
   ]
  },
  {
   "cell_type": "code",
   "execution_count": null,
   "id": "790f72ab",
   "metadata": {},
   "outputs": [],
   "source": [
    "# HTML object\n",
    "html = browser.html\n",
    "    \n",
    "# Parse HTML with Beautiful Soup\n",
    "soup = bs(html, 'html.parser')\n",
    "\n",
    "# Retrieve all elements that has article information\n",
    "news_title = soup.find('div', class_='content_title').text\n",
    "news_p = soup.find('div', class_='article_teaser_body').text\n",
    "\n",
    "print(news_title)\n",
    "print(news_p)"
   ]
  },
  {
   "cell_type": "markdown",
   "id": "39a66d82",
   "metadata": {},
   "source": [
    "## JPL Mars Space Images - Featured Image"
   ]
  },
  {
   "cell_type": "code",
   "execution_count": null,
   "id": "e30ce422",
   "metadata": {},
   "outputs": [],
   "source": [
    "#URL for JPL Mars Space Images - Featured Image\n",
    "space_url = 'https://spaceimages-mars.com/'\n",
    "browser.visit(space_url)"
   ]
  },
  {
   "cell_type": "code",
   "execution_count": null,
   "id": "9564dbb8",
   "metadata": {},
   "outputs": [],
   "source": [
    "#Use Splinter to navigate the site to find Featured Mars Image\n",
    "html = browser.html\n",
    "\n",
    "# Parse HTML with Beautiful Soup\n",
    "soup = bs(html, 'html.parser')\n",
    "\n",
    "# Retrieve all elements that article information\n",
    "div = soup.find('div', class_='header')\n",
    "a = div.find('a', class_='showimg fancybox-thumbs')\n",
    "href = a['href']\n",
    "featured_image_url = str(space_url) + str(href)\n",
    "print(featured_image_url)"
   ]
  },
  {
   "cell_type": "code",
   "execution_count": null,
   "id": "1c969541",
   "metadata": {},
   "outputs": [],
   "source": [
    "browser.quit()"
   ]
  },
  {
   "cell_type": "markdown",
   "id": "bd0f5481",
   "metadata": {},
   "source": [
    "## Mars Facts"
   ]
  },
  {
   "cell_type": "code",
   "execution_count": null,
   "id": "686f6367",
   "metadata": {},
   "outputs": [],
   "source": [
    "#Use pandas to convert the data to a HTML table string\n",
    "mars_facts_url = 'https://galaxyfacts-mars.com'\n",
    "tables = pd.read_html(mars_facts_url)\n",
    "mars_facts_df = tables[0]\n",
    "mars_facts_df"
   ]
  },
  {
   "cell_type": "code",
   "execution_count": null,
   "id": "b85e03a2",
   "metadata": {},
   "outputs": [],
   "source": [
    "mars_facts_df.columns = mars_facts_df.iloc[0]\n",
    "cleaned_df = mars_facts_df.drop(mars_facts_df.index[0])\n",
    "cleaned_df.set_index('Mars - Earth Comparison', inplace=True)\n",
    "cleaned_df"
   ]
  },
  {
   "cell_type": "code",
   "execution_count": null,
   "id": "1081a507",
   "metadata": {},
   "outputs": [],
   "source": [
    "#Convert data to HTML table string\n",
    "html_table = cleaned_df.to_html()\n",
    "html_table.replace('\\n', '')\n",
    "html_table"
   ]
  },
  {
   "cell_type": "code",
   "execution_count": null,
   "id": "5eafcfcc",
   "metadata": {},
   "outputs": [],
   "source": [
    "cleaned_df.to_html('table.html')"
   ]
  },
  {
   "cell_type": "markdown",
   "id": "b4443d27",
   "metadata": {},
   "source": [
    "## Mars Hemispheres"
   ]
  },
  {
   "cell_type": "code",
   "execution_count": null,
   "id": "b0b3cd28",
   "metadata": {},
   "outputs": [],
   "source": [
    "#Mars Hemispheres\n",
    "executable_path = {'executable_path': ChromeDriverManager().install()}\n",
    "browser = Browser('chrome', **executable_path, headless=False)\n",
    "\n",
    "hem_url = 'https://marshemispheres.com/'\n",
    "browser.visit(hem_url)"
   ]
  },
  {
   "cell_type": "code",
   "execution_count": null,
   "id": "2641a8b6",
   "metadata": {},
   "outputs": [],
   "source": [
    "#Mars Hemispheres\n",
    "html = browser.html\n",
    "    \n",
    "# Parse HTML with Beautiful Soup\n",
    "soup = bs(html, 'html.parser')\n",
    "\n",
    "hemisphere_image_urls = []\n",
    "\n",
    "# Retrieve all elements that article information\n",
    "section = soup.find('section', id='results-accordian')\n",
    "\n",
    "#Retrieve the individual \"product\" info\n",
    "div = section('div', class_='description')\n",
    "\n",
    "for product in div:\n",
    "    #Create dictionary to store title & img url\n",
    "    dict = {}\n",
    "\n",
    "    #Gets the title by finding the h3 tag\n",
    "    title = product.find('h3').text\n",
    "    dict['title'] = title\n",
    "    #print(title)\n",
    "\n",
    "    #Clicks the link with that title\n",
    "    browser.links.find_by_partial_text(title).click()\n",
    "\n",
    "    #Sets the html to the new page's html\n",
    "    html = browser.html\n",
    "    soup = bs(html, 'html.parser')\n",
    "\n",
    "    #Clicks the \"Open\" to get the full image\n",
    "    browser.links.find_by_partial_text('Open').click()\n",
    "    img = soup.find('img', class_='wide-image')['src']\n",
    "    #Adds the the first part of the img url\n",
    "    img_url = str(hem_url + img)\n",
    "    dict['img_url'] = img_url\n",
    "\n",
    "    hemisphere_image_urls.append(dict)\n",
    "\n",
    "    #Returns & resets to main URL to get next info\n",
    "    browser.visit(hem_url)\n",
    "    html = browser.html\n",
    "    soup = bs(html, 'html.parser')\n",
    "    \n",
    "browser.quit()"
   ]
  },
  {
   "cell_type": "code",
   "execution_count": null,
   "id": "870ebb13",
   "metadata": {},
   "outputs": [],
   "source": [
    "hemisphere_image_urls"
   ]
  },
  {
   "cell_type": "code",
   "execution_count": null,
   "id": "998606c4",
   "metadata": {},
   "outputs": [],
   "source": [
    "# Create dictionary for all info scraped from sources above\n",
    "mars_dict={\n",
    "    \"news_title\" : news_title,\n",
    "    \"news_p\" : news_p,\n",
    "    \"featured_image_url\" : featured_image_url,\n",
    "    \"mars_facts\" : cleaned_df,\n",
    "    \"hemisphere_images\" : hemisphere_image_urls\n",
    "}"
   ]
  },
  {
   "cell_type": "code",
   "execution_count": null,
   "id": "b468e5c2",
   "metadata": {},
   "outputs": [],
   "source": [
    "mars_dict"
   ]
  }
 ],
 "metadata": {
  "kernelspec": {
   "display_name": "Python [conda env:PythonData] *",
   "language": "python",
   "name": "conda-env-PythonData-py"
  },
  "language_info": {
   "codemirror_mode": {
    "name": "ipython",
    "version": 3
   },
   "file_extension": ".py",
   "mimetype": "text/x-python",
   "name": "python",
   "nbconvert_exporter": "python",
   "pygments_lexer": "ipython3",
   "version": "3.6.10"
  }
 },
 "nbformat": 4,
 "nbformat_minor": 5
}
